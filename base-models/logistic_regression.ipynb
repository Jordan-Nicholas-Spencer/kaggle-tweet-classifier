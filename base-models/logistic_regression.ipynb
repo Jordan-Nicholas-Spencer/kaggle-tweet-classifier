{
 "cells": [
  {
   "cell_type": "code",
   "execution_count": null,
   "id": "1e8a11a7",
   "metadata": {},
   "outputs": [
    {
     "name": "stderr",
     "output_type": "stream",
     "text": [
      "[nltk_data] Downloading package punkt to C:\\Users\\jorda/nltk_data...\n",
      "[nltk_data]   Package punkt is already up-to-date!\n"
     ]
    }
   ],
   "source": [
    "# Imports\n",
    "import os\n",
    "import pandas as pd\n",
    "import numpy as np\n",
    "import nltk\n",
    "from sklearn.linear_model import LogisticRegression\n",
    "from sklearn.model_selection import train_test_split\n",
    "from sklearn.metrics import classification_report, accuracy_score, confusion_matrix, f1_score\n",
    "\n",
    "# NLTK setup\n",
    "nltk.download('punkt')\n",
    "# change the path to your nltk_data directory as needed\n",
    "nltk.data.path.append(r\"C:\\Users\\jorda\\Documents\\Education\\Machine Learning\\Final\\MLFinalCode\\nltk_data\")"
   ]
  },
  {
   "cell_type": "code",
   "execution_count": null,
   "id": "41f10a76",
   "metadata": {},
   "outputs": [
    {
     "name": "stdout",
     "output_type": "stream",
     "text": [
      "Loaded train/test features and labels.\n"
     ]
    }
   ],
   "source": [
    "# Load word2vec_tf-idf features and labels\n",
    "# change the paths to your datasets as needed\n",
    "train_features = np.load(r\"C:\\Users\\jorda\\Documents\\Education\\Machine Learning\\Final\\MLFinalCode\\datasets\\w2v_tfidf_train_features.npy\")\n",
    "test_features = np.load(r\"C:\\Users\\jorda\\Documents\\Education\\Machine Learning\\Final\\MLFinalCode\\datasets\\w2v_tfidf_test_features.npy\")\n",
    "train_labels = pd.read_csv(r\"C:\\Users\\jorda\\Documents\\Education\\Machine Learning\\Final\\MLFinalCode\\datasets\\w2v_tfidf_train_labels.csv\")\n",
    "test_df = pd.read_csv(r\"C:\\Users\\jorda\\Documents\\Education\\Machine Learning\\Final\\MLFinalCode\\datasets\\w2v_tfidf_test_labels.csv\")\n",
    "print(\"Loaded train/test features and labels.\")\n"
   ]
  },
  {
   "cell_type": "code",
   "execution_count": 3,
   "id": "92184e85",
   "metadata": {},
   "outputs": [
    {
     "name": "stdout",
     "output_type": "stream",
     "text": [
      "Accuracy: 0.7261982928430729\n",
      "F1 Score: 0.592375366568915\n",
      "\n",
      "Classification Report:\n",
      "               precision    recall  f1-score   support\n",
      "\n",
      "           0       0.70      0.92      0.79       869\n",
      "           1       0.82      0.46      0.59       654\n",
      "\n",
      "    accuracy                           0.73      1523\n",
      "   macro avg       0.76      0.69      0.69      1523\n",
      "weighted avg       0.75      0.73      0.71      1523\n",
      "\n",
      "\n",
      "Confusion Matrix:\n",
      " [[803  66]\n",
      " [351 303]]\n"
     ]
    }
   ],
   "source": [
    "X = train_features\n",
    "y = train_labels['target'].values\n",
    "\n",
    "# Split into train/validation (80/20) for evaluation\n",
    "X_train, X_val, y_train, y_val = train_test_split(\n",
    "    X, y, test_size=0.2, stratify=y, random_state=42\n",
    ")\n",
    "\n",
    "# Train logistic regression\n",
    "lr = LogisticRegression(max_iter=1000, random_state=42)\n",
    "lr.fit(X_train, y_train)\n",
    "\n",
    "# Evaluate\n",
    "y_pred = lr.predict(X_val)\n",
    "print(\"Accuracy:\", accuracy_score(y_val, y_pred))\n",
    "print(\"F1 Score:\", f1_score(y_val, y_pred))\n",
    "print(\"\\nClassification Report:\\n\", classification_report(y_val, y_pred))\n",
    "print(\"\\nConfusion Matrix:\\n\", confusion_matrix(y_val, y_pred))"
   ]
  },
  {
   "cell_type": "code",
   "execution_count": 4,
   "id": "8fe3c3dd",
   "metadata": {},
   "outputs": [
    {
     "name": "stdout",
     "output_type": "stream",
     "text": [
      "Test predictions saved to logistic_regression_submission.csv\n"
     ]
    }
   ],
   "source": [
    "# Predict on test set (for submission or inspection)\n",
    "test_preds = lr.predict(test_features)\n",
    "\n",
    "# Save predictions\n",
    "submission = pd.DataFrame({\n",
    "    'id': test_df['id'] if 'id' in test_df.columns else range(len(test_preds)),\n",
    "    'target': test_preds\n",
    "})\n",
    "submission.to_csv(\"logistic_regression_submission.csv\", index=False)\n",
    "print(\"Test predictions saved to logistic_regression_submission.csv\")"
   ]
  }
 ],
 "metadata": {
  "kernelspec": {
   "display_name": "Python 3",
   "language": "python",
   "name": "python3"
  },
  "language_info": {
   "codemirror_mode": {
    "name": "ipython",
    "version": 3
   },
   "file_extension": ".py",
   "mimetype": "text/x-python",
   "name": "python",
   "nbconvert_exporter": "python",
   "pygments_lexer": "ipython3",
   "version": "3.11.9"
  }
 },
 "nbformat": 4,
 "nbformat_minor": 5
}
