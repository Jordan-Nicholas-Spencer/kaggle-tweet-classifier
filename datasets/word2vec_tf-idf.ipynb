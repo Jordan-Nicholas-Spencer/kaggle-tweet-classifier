{
 "cells": [
  {
   "cell_type": "code",
   "execution_count": 9,
   "id": "5e6ac780",
   "metadata": {},
   "outputs": [
    {
     "name": "stderr",
     "output_type": "stream",
     "text": [
      "[nltk_data] Downloading package punkt to C:\\Users\\jorda/nltk_data...\n",
      "[nltk_data]   Package punkt is already up-to-date!\n"
     ]
    }
   ],
   "source": [
    "import pandas as pd\n",
    "import numpy as np\n",
    "import nltk\n",
    "from nltk.tokenize import word_tokenize\n",
    "from gensim.models import Word2Vec\n",
    "from sklearn.feature_extraction.text import TfidfVectorizer\n",
    "\n",
    "# NLTK setup\n",
    "nltk.download('punkt')\n",
    "nltk.data.path.append(r\"C:\\Users\\jorda\\Documents\\Education\\Machine Learning\\Final\\MLFinalCode\\nltk_data\")\n",
    "\n",
    "# Load train and test data\n",
    "train_df = pd.read_csv(r\"C:\\Users\\jorda\\Documents\\Education\\Machine Learning\\Final\\MLFinalCode\\datasets\\cleaned_train.csv\")\n",
    "test_df = pd.read_csv(r\"C:\\Users\\jorda\\Documents\\Education\\Machine Learning\\Final\\MLFinalCode\\datasets\\cleaned_test.csv\")\n",
    "\n",
    "# Tokenize training data for Word2Vec\n",
    "tokenized_train = train_df['text_final'].dropna().apply(word_tokenize).tolist()\n",
    "\n",
    "# Train Word2Vec on training set\n",
    "w2v_model = Word2Vec(\n",
    "    sentences=tokenized_train,\n",
    "    vector_size=100,\n",
    "    window=5,\n",
    "    min_count=2,\n",
    "    workers=4,\n",
    "    sg=1,\n",
    "    seed=42\n",
    ")\n",
    "\n",
    "# Save Word2Vec model\n",
    "w2v_model.save(\"word2vec_model.model\")\n",
    "\n",
    "# TF-IDF on training corpus\n",
    "train_corpus = train_df['text_final'].fillna(\"\")\n",
    "tfidf = TfidfVectorizer()\n",
    "tfidf_matrix = tfidf.fit_transform(train_corpus)\n",
    "\n",
    "# Get IDF weights\n",
    "idf_weights = dict(zip(tfidf.get_feature_names_out(), tfidf.idf_))\n",
    "\n",
    "# Define embedding function\n",
    "def get_weighted_w2v(text, model, idf_dict):\n",
    "    tokens = word_tokenize(text)\n",
    "    word_vecs = []\n",
    "    weight_sum = 0\n",
    "    for word in tokens:\n",
    "        if word in model.wv and word in idf_dict:\n",
    "            vec = model.wv[word] * idf_dict[word]\n",
    "            word_vecs.append(vec)\n",
    "            weight_sum += idf_dict[word]\n",
    "    if word_vecs:\n",
    "        return np.sum(word_vecs, axis=0) / weight_sum\n",
    "    else:\n",
    "        return np.zeros(model.vector_size)\n",
    "\n",
    "# Apply to train and test sets\n",
    "train_features = np.array([get_weighted_w2v(text, w2v_model, idf_weights) for text in train_corpus])\n",
    "test_corpus = test_df['text_final'].fillna(\"\")\n",
    "test_features = np.array([get_weighted_w2v(text, w2v_model, idf_weights) for text in test_corpus])\n",
    "\n",
    "# Save features and labels\n",
    "np.save(\"w2v_tfidf_train_features.npy\", train_features)\n",
    "np.save(\"w2v_tfidf_test_features.npy\", test_features)\n",
    "train_df[['target']].to_csv(\"w2v_tfidf_train_labels.csv\", index=False)\n",
    "test_df.to_csv(\"w2v_tfidf_test_labels.csv\", index=False)   # test set has not target so save entire dataframe"
   ]
  }
 ],
 "metadata": {
  "kernelspec": {
   "display_name": "Python 3",
   "language": "python",
   "name": "python3"
  },
  "language_info": {
   "codemirror_mode": {
    "name": "ipython",
    "version": 3
   },
   "file_extension": ".py",
   "mimetype": "text/x-python",
   "name": "python",
   "nbconvert_exporter": "python",
   "pygments_lexer": "ipython3",
   "version": "3.11.9"
  }
 },
 "nbformat": 4,
 "nbformat_minor": 5
}
