{
 "cells": [
  {
   "cell_type": "code",
   "execution_count": 1,
   "id": "1e8a11a7",
   "metadata": {},
   "outputs": [
    {
     "name": "stderr",
     "output_type": "stream",
     "text": [
      "[nltk_data] Downloading package punkt to\n",
      "[nltk_data]     C:\\Users\\jorda\\AppData\\Roaming\\nltk_data...\n",
      "[nltk_data]   Package punkt is already up-to-date!\n"
     ]
    }
   ],
   "source": [
    "import os\n",
    "import pandas as pd\n",
    "import numpy as np\n",
    "import nltk\n",
    "from nltk.tokenize import word_tokenize\n",
    "from gensim.models import Word2Vec\n",
    "from sklearn.feature_extraction.text import TfidfVectorizer\n",
    "from sklearn.linear_model import LogisticRegression\n",
    "from sklearn.model_selection import train_test_split\n",
    "from sklearn.metrics import classification_report, accuracy_score, confusion_matrix\n",
    "\n",
    "# NLTK setup\n",
    "nltk.download('punkt')\n",
    "nltk.data.path.append(r\"C:\\Users\\jorda\\Documents\\Education\\Machine Learning\\Final\\MLFinalCode\\nltk_data\")"
   ]
  },
  {
   "cell_type": "code",
   "execution_count": 2,
   "id": "611e65bc",
   "metadata": {},
   "outputs": [],
   "source": [
    "# Load data\n",
    "train_df = pd.read_csv(\"cleaned_train.csv\")\n",
    "test_df = pd.read_csv(\"cleaned_test.csv\")\n",
    "\n",
    "# Tokenize train corpus for Word2Vec\n",
    "tokenized_train = train_df['text_final'].dropna().apply(word_tokenize).tolist()"
   ]
  },
  {
   "cell_type": "code",
   "execution_count": 3,
   "id": "b46fedf0",
   "metadata": {},
   "outputs": [],
   "source": [
    "# Train Word2Vec\n",
    "w2v_model = Word2Vec(\n",
    "    sentences=tokenized_train,\n",
    "    vector_size=100,\n",
    "    window=5,\n",
    "    min_count=2,\n",
    "    workers=4,\n",
    "    sg=1,\n",
    "    seed=42\n",
    ")\n",
    "\n",
    "# Save the model\n",
    "w2v_model.save(\"word2vec_model.model\")\n",
    "\n",
    "# Fit TF-IDF on training corpus\n",
    "train_corpus = train_df['text_final'].fillna(\"\")\n",
    "tfidf = TfidfVectorizer()\n",
    "tfidf.fit(train_corpus)\n",
    "idf_weights = dict(zip(tfidf.get_feature_names_out(), tfidf.idf_))"
   ]
  },
  {
   "cell_type": "code",
   "execution_count": 4,
   "id": "b1425498",
   "metadata": {},
   "outputs": [],
   "source": [
    "def get_weighted_w2v(text, model, idf_dict):\n",
    "    tokens = word_tokenize(text)\n",
    "    word_vecs = []\n",
    "    weight_sum = 0\n",
    "    for word in tokens:\n",
    "        if word in model.wv and word in idf_dict:\n",
    "            vec = model.wv[word] * idf_dict[word]\n",
    "            word_vecs.append(vec)\n",
    "            weight_sum += idf_dict[word]\n",
    "    if word_vecs:\n",
    "        return np.sum(word_vecs, axis=0) / weight_sum\n",
    "    else:\n",
    "        return np.zeros(model.vector_size)\n",
    "\n",
    "# Apply to training and test sets\n",
    "train_features = np.array([get_weighted_w2v(text, w2v_model, idf_weights) for text in train_corpus])\n",
    "test_corpus = test_df['text_final'].fillna(\"\")\n",
    "test_features = np.array([get_weighted_w2v(text, w2v_model, idf_weights) for text in test_corpus])"
   ]
  },
  {
   "cell_type": "code",
   "execution_count": 5,
   "id": "92534820",
   "metadata": {},
   "outputs": [
    {
     "name": "stdout",
     "output_type": "stream",
     "text": [
      "Saved train/test features and labels.\n"
     ]
    }
   ],
   "source": [
    "np.save(\"train_features.npy\", train_features)\n",
    "np.save(\"test_features.npy\", test_features)\n",
    "train_df[['target']].to_csv(\"train_labels.csv\", index=False)\n",
    "\n",
    "print(\"Saved train/test features and labels.\")"
   ]
  },
  {
   "cell_type": "code",
   "execution_count": null,
   "id": "92184e85",
   "metadata": {},
   "outputs": [
    {
     "name": "stdout",
     "output_type": "stream",
     "text": [
      "Accuracy: 0.7275114904793172\n",
      "\n",
      "Classification Report:\n",
      "               precision    recall  f1-score   support\n",
      "\n",
      "           0       0.70      0.92      0.79       869\n",
      "           1       0.82      0.47      0.60       654\n",
      "\n",
      "    accuracy                           0.73      1523\n",
      "   macro avg       0.76      0.70      0.70      1523\n",
      "weighted avg       0.75      0.73      0.71      1523\n",
      "\n",
      "\n",
      "Confusion Matrix:\n",
      " [[801  68]\n",
      " [347 307]]\n"
     ]
    }
   ],
   "source": [
    "X = train_features\n",
    "y = train_df['target'].values\n",
    "\n",
    "# Split into train/validation (80/20) for evaluation\n",
    "X_train, X_val, y_train, y_val = train_test_split(\n",
    "    X, y, test_size=0.2, stratify=y, random_state=42\n",
    ")\n",
    "\n",
    "# Train logistic regression\n",
    "lr = LogisticRegression(max_iter=1000, random_state=42)\n",
    "lr.fit(X_train, y_train)\n",
    "\n",
    "# Evaluate\n",
    "y_pred = lr.predict(X_val)\n",
    "print(\"Accuracy:\", accuracy_score(y_val, y_pred))\n",
    "print(\"\\nClassification Report:\\n\", classification_report(y_val, y_pred))\n",
    "print(\"\\nConfusion Matrix:\\n\", confusion_matrix(y_val, y_pred))"
   ]
  },
  {
   "cell_type": "code",
   "execution_count": 7,
   "id": "8fe3c3dd",
   "metadata": {},
   "outputs": [
    {
     "name": "stdout",
     "output_type": "stream",
     "text": [
      "Test predictions saved to logreg_submission.csv\n"
     ]
    }
   ],
   "source": [
    "# Predict on test set (for submission or inspection)\n",
    "test_preds = lr.predict(test_features)\n",
    "\n",
    "# Save predictions\n",
    "submission = pd.DataFrame({\n",
    "    'id': test_df['id'] if 'id' in test_df.columns else range(len(test_preds)),\n",
    "    'target': test_preds\n",
    "})\n",
    "submission.to_csv(\"logreg_submission.csv\", index=False)\n",
    "print(\"Test predictions saved to logreg_submission.csv\")"
   ]
  }
 ],
 "metadata": {
  "kernelspec": {
   "display_name": "Python 3",
   "language": "python",
   "name": "python3"
  },
  "language_info": {
   "codemirror_mode": {
    "name": "ipython",
    "version": 3
   },
   "file_extension": ".py",
   "mimetype": "text/x-python",
   "name": "python",
   "nbconvert_exporter": "python",
   "pygments_lexer": "ipython3",
   "version": "3.11.9"
  }
 },
 "nbformat": 4,
 "nbformat_minor": 5
}
